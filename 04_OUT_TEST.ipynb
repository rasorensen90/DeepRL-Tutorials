{
 "cells": [
  {
   "cell_type": "markdown",
   "metadata": {
    "papermill": {
     "duration": 0.013136,
     "end_time": "2020-06-27T11:20:30.904410",
     "exception": false,
     "start_time": "2020-06-27T11:20:30.891274",
     "status": "completed"
    },
    "tags": []
   },
   "source": [
    " # Dueling Deep Q Network"
   ]
  },
  {
   "cell_type": "markdown",
   "metadata": {
    "papermill": {
     "duration": 0.012043,
     "end_time": "2020-06-27T11:20:30.926477",
     "exception": false,
     "start_time": "2020-06-27T11:20:30.914434",
     "status": "completed"
    },
    "tags": []
   },
   "source": [
    " ## Imports"
   ]
  },
  {
   "cell_type": "code",
   "execution_count": 1,
   "metadata": {
    "execution": {
     "iopub.execute_input": "2020-06-27T11:20:30.959254Z",
     "iopub.status.busy": "2020-06-27T11:20:30.957800Z",
     "iopub.status.idle": "2020-06-27T11:20:34.296998Z",
     "shell.execute_reply": "2020-06-27T11:20:34.297590Z"
    },
    "papermill": {
     "duration": 3.361641,
     "end_time": "2020-06-27T11:20:34.297800",
     "exception": false,
     "start_time": "2020-06-27T11:20:30.936159",
     "status": "completed"
    },
    "tags": []
   },
   "outputs": [
    {
     "name": "stderr",
     "output_type": "stream",
     "text": [
      "Using backend: pytorch\n"
     ]
    }
   ],
   "source": [
    "import gym, math, glob\n",
    "import numpy as np\n",
    "\n",
    "from timeit import default_timer as timer\n",
    "from datetime import timedelta\n",
    "from environments.BHS.environment_v4_2 import Environment\n",
    "\n",
    "import torch\n",
    "import torch.optim as optim\n",
    "import torch.nn as nn\n",
    "import torch.nn.functional as F\n",
    "\n",
    "from torch_geometric.nn import GCNConv\n",
    "\n",
    "from IPython.display import clear_output\n",
    "from matplotlib import pyplot as plt\n",
    "get_ipython().run_line_magic('matplotlib', 'inline')\n",
    "\n",
    "from utils.wrappers import *\n",
    "from agents.DQN import Model as DQN_Agent\n",
    "from utils.ReplayMemory import ExperienceReplayMemory\n",
    "\n",
    "from utils.hyperparameters import Config\n",
    "from utils.plot import plot_all_data"
   ]
  },
  {
   "cell_type": "markdown",
   "metadata": {
    "papermill": {
     "duration": 0.010177,
     "end_time": "2020-06-27T11:20:34.318799",
     "exception": false,
     "start_time": "2020-06-27T11:20:34.308622",
     "status": "completed"
    },
    "tags": []
   },
   "source": [
    " ## Hyperparameters"
   ]
  },
  {
   "cell_type": "code",
   "execution_count": 2,
   "metadata": {
    "execution": {
     "iopub.execute_input": "2020-06-27T11:20:34.348501Z",
     "iopub.status.busy": "2020-06-27T11:20:34.347717Z",
     "iopub.status.idle": "2020-06-27T11:20:34.350015Z",
     "shell.execute_reply": "2020-06-27T11:20:34.349286Z"
    },
    "papermill": {
     "duration": 0.021976,
     "end_time": "2020-06-27T11:20:34.350150",
     "exception": false,
     "start_time": "2020-06-27T11:20:34.328174",
     "status": "completed"
    },
    "tags": []
   },
   "outputs": [],
   "source": [
    "config = Config()\n",
    "\n",
    "config.device = torch.device(\"cuda\" if torch.cuda.is_available() else \"cpu\")\n",
    "\n",
    "#epsilon variables\n",
    "config.epsilon_start = 1.0\n",
    "config.epsilon_final = 0.01\n",
    "config.epsilon_decay = 300000\n",
    "config.epsilon_by_frame = lambda frame_idx: config.epsilon_final + (config.epsilon_start - config.epsilon_final) * math.exp(-1. * frame_idx / config.epsilon_decay)\n",
    "\n",
    "#misc agent variables\n",
    "config.GAMMA=0.99\n",
    "config.LR=1e-4\n",
    "config.USE_PRIORITY_REPLAY = True\n",
    "\n",
    "#memory\n",
    "config.TARGET_NET_UPDATE_FREQ = 1000\n",
    "config.EXP_REPLAY_SIZE = 50000\n",
    "config.BATCH_SIZE = 32\n",
    "\n",
    "#Learning control variables\n",
    "config.LEARN_START = 100\n",
    "config.MAX_FRAMES=1000000\n",
    "config.UPDATE_FREQ = 1\n",
    "\n",
    "#Nstep controls\n",
    "config.N_STEPS=5\n",
    "\n",
    "#data logging parameters\n",
    "config.ACTION_SELECTION_COUNT_FREQUENCY = 1000"
   ]
  },
  {
   "cell_type": "markdown",
   "metadata": {
    "papermill": {
     "duration": 0.009626,
     "end_time": "2020-06-27T11:20:34.369819",
     "exception": false,
     "start_time": "2020-06-27T11:20:34.360193",
     "status": "completed"
    },
    "tags": []
   },
   "source": [
    " ## Network"
   ]
  },
  {
   "cell_type": "code",
   "execution_count": 3,
   "metadata": {
    "execution": {
     "iopub.execute_input": "2020-06-27T11:20:34.412343Z",
     "iopub.status.busy": "2020-06-27T11:20:34.411460Z",
     "iopub.status.idle": "2020-06-27T11:20:34.413880Z",
     "shell.execute_reply": "2020-06-27T11:20:34.413148Z"
    },
    "papermill": {
     "duration": 0.03447,
     "end_time": "2020-06-27T11:20:34.414013",
     "exception": false,
     "start_time": "2020-06-27T11:20:34.379543",
     "status": "completed"
    },
    "tags": []
   },
   "outputs": [],
   "source": [
    "class BHSDuelingDQN(nn.Module):\n",
    "    def __init__(self, input_shape, num_outputs, edgelist):\n",
    "        super(BHSDuelingDQN, self).__init__()\n",
    "        self.input_shape = input_shape\n",
    "        self.num_actions = num_outputs # a vector of the number of actions at each diverter\n",
    "        self.edge = edgelist       \n",
    "\n",
    "        self.conv1 = GCNConv(self.input_shape[1], 128)\n",
    "        self.conv2 = GCNConv(128, 256)\n",
    "        \n",
    "        self.adv = nn.Linear(self.feature_size(), sum(self.num_actions)) # Might be an idea to add another fc layer here\n",
    "\n",
    "        self.val1 = nn.Linear(self.feature_size(), 64)\n",
    "        self.val2 = nn.Linear(64, 64)\n",
    "        self.val3 = nn.Linear(64, len(self.num_actions))\n",
    "\n",
    "    def forward(self, x):        \n",
    "        # x comes in as an N x H x C shape (N is batch size, H is number of elements (height), C is number of features (channels))\n",
    "        x_shape = x.shape \n",
    "        x = x.view(x_shape[0]*x_shape[1],x_shape[2]) # set shape of x to [N*H, C] to get the shape of a Graph batch\n",
    "        \n",
    "        x = F.relu(self.conv1(x, self.edge))\n",
    "        x = F.relu(self.conv2(x, self.edge))\n",
    "        \n",
    "        x = x.view(x_shape[0], -1) # set shape of x to [N,:] to keep the batch size\n",
    "        \n",
    "        adv = F.relu(self.adv(x))\n",
    "        adv = adv.view(adv.size(0),len(self.num_actions),-1)\n",
    "            \n",
    "        val = F.relu(self.val1(x))\n",
    "        val = F.relu(self.val2(val))\n",
    "        val = self.val3(val)\n",
    "        \n",
    "        return val.unsqueeze(-1).expand_as(adv) + adv - adv.mean(-1).unsqueeze(-1).expand_as(adv)\n",
    "    \n",
    "    def feature_size(self):\n",
    "        x = self.conv1(torch.zeros([self.input_shape[0],self.input_shape[1]],dtype=torch.float),torch.zeros([self.edge.shape[0],self.edge.shape[1]], dtype=torch.long))\n",
    "        x = self.conv2(x,torch.zeros([self.edge.shape[0],self.edge.shape[1]], dtype=torch.long))\n",
    "        x = x.view(1, -1)\n",
    "        x = x.size(1)\n",
    "        return x\n",
    "    \n",
    "    def sample_noise(self):\n",
    "        #ignore this for now\n",
    "        pass\n"
   ]
  },
  {
   "cell_type": "markdown",
   "metadata": {
    "papermill": {
     "duration": 0.009054,
     "end_time": "2020-06-27T11:20:34.432651",
     "exception": false,
     "start_time": "2020-06-27T11:20:34.423597",
     "status": "completed"
    },
    "tags": []
   },
   "source": [
    " ## Agent"
   ]
  },
  {
   "cell_type": "code",
   "execution_count": 4,
   "metadata": {
    "execution": {
     "iopub.execute_input": "2020-06-27T11:20:34.461468Z",
     "iopub.status.busy": "2020-06-27T11:20:34.460706Z",
     "iopub.status.idle": "2020-06-27T11:20:34.463059Z",
     "shell.execute_reply": "2020-06-27T11:20:34.462325Z"
    },
    "papermill": {
     "duration": 0.021143,
     "end_time": "2020-06-27T11:20:34.463192",
     "exception": false,
     "start_time": "2020-06-27T11:20:34.442049",
     "status": "completed"
    },
    "tags": []
   },
   "outputs": [],
   "source": [
    "class Model(DQN_Agent):\n",
    "    def __init__(self, static_policy=False, env=None, config=None, log_dir='/tmp/GCN'):\n",
    "        super(Model, self).__init__(static_policy, env, config, log_dir=log_dir)\n",
    "\n",
    "    def declare_networks(self):\n",
    "        edgelist = self.env.edgelist.to(self.device)\n",
    "        self.model = BHSDuelingDQN(self.env.observation_space.shape, self.env.action_space.nvec, edgelist)\n",
    "        self.target_model = BHSDuelingDQN(self.env.observation_space.shape, self.env.action_space.nvec, edgelist)\n"
   ]
  },
  {
   "cell_type": "markdown",
   "metadata": {
    "papermill": {
     "duration": 0.010476,
     "end_time": "2020-06-27T11:20:34.483757",
     "exception": false,
     "start_time": "2020-06-27T11:20:34.473281",
     "status": "completed"
    },
    "tags": []
   },
   "source": [
    " ## Training Loop"
   ]
  },
  {
   "cell_type": "code",
   "execution_count": 5,
   "metadata": {
    "execution": {
     "iopub.execute_input": "2020-06-27T11:20:34.540566Z",
     "iopub.status.busy": "2020-06-27T11:20:34.527880Z"
    },
    "papermill": {
     "duration": null,
     "end_time": null,
     "exception": false,
     "start_time": "2020-06-27T11:20:34.493669",
     "status": "running"
    },
    "scrolled": true,
    "tags": []
   },
   "outputs": [
    {
     "name": "stdout",
     "output_type": "stream",
     "text": [
      "58000\n",
      "0.003007971672224812 0.0007852711221203208 0.10907292604946997\n"
     ]
    },
    {
     "data": {
      "image/png": "[encoded data removed]",
      "text/plain": [
       "<Figure size 1440x1080 with 3 Axes>"
      ]
     },
     "metadata": {
      "needs_background": "light"
     },
     "output_type": "display_data"
    }
   ],
   "source": [
    "start=timer()\n",
    "\n",
    "log_dir = \"tmp/GCN/\"\n",
    "try:\n",
    "    os.makedirs(log_dir)\n",
    "except OSError:\n",
    "    files = glob.glob(os.path.join(log_dir, '*.monitor.csv')) \\\n",
    "        + glob.glob(os.path.join(log_dir, '*td.csv')) \\\n",
    "        + glob.glob(os.path.join(log_dir, '*sig_param_mag.csv')) \\\n",
    "        + glob.glob(os.path.join(log_dir, '*action_log.csv'))\n",
    "    for f in files:\n",
    "        os.remove(f)\n",
    "\n",
    "class Arg_parser():\n",
    "    def __init__(self):\n",
    "        self.max_timesteps = 10000000\n",
    "        self.envtype = 'env_2_0'\n",
    "        self.tb_log_name = 'DQN'\n",
    "        self.steplimit = 200\n",
    "        self.log_interval = 1000\n",
    "        self.step_penalty = None\n",
    "        self.trasum_scale = None\n",
    "        self.destination_score = None\n",
    "        self.numtotes = 30\n",
    "        self.randomize_numtotes = False\n",
    "        self.RL_diverters = None\n",
    "    \n",
    "args = Arg_parser()\n",
    "\n",
    "        \n",
    "env_id = args.envtype\n",
    "env    = Environment(args) #make_atari(env_id)\n",
    "env    = bench.Monitor(env, os.path.join(log_dir, env_id))\n",
    "# env    = wrap_deepmind(env, episode_life=True, clip_rewards=True, frame_stack=False, scale=True)\n",
    "# env    = ImageToPyTorch(env)\n",
    "model  = Model(env=env, config=config, log_dir=log_dir)\n",
    "\n",
    "episode_reward = 0\n",
    "time_get, time_step, time_update = 0,0,0\n",
    "observation = env.reset(total = True)\n",
    "for frame_idx in range(1, config.MAX_FRAMES + 1):\n",
    "    epsilon = config.epsilon_by_frame(frame_idx)\n",
    "    \n",
    "    start_get=timer()\n",
    "    action = model.get_action(observation, epsilon)[0]\n",
    "    time_get += timer()-start_get\n",
    "    \n",
    "    start_step=timer()\n",
    "    prev_observation=observation\n",
    "    observation, reward, done, _, actual_action = env.step(action)\n",
    "    observation = None if env.deadlock else observation     \n",
    "    time_step += timer()-start_step\n",
    "    \n",
    "    action = actual_action\n",
    "    model.save_action(action, frame_idx) #log action selection\n",
    "    \n",
    "    start_update=timer()\n",
    "    model.update(prev_observation, action, reward, observation, frame_idx)\n",
    "    episode_reward += reward\n",
    "    time_update += timer()-start_update   \n",
    "    \n",
    "    if frame_idx % args.steplimit*10 == 0:\n",
    "        total_reset = True\n",
    "    else:\n",
    "        total_reset = env.deadlock\n",
    "    if done:\n",
    "        model.finish_nstep()\n",
    "        model.reset_hx()\n",
    "        \n",
    "        observation = env.reset(total=total_reset)\n",
    "        model.save_reward(episode_reward)\n",
    "        episode_reward = 0\n",
    "    \n",
    "    \n",
    "    if frame_idx % args.log_interval == 0:\n",
    "        model.save_w()\n",
    "        try:\n",
    "            clear_output(True)\n",
    "            print(frame_idx)\n",
    "            print(time_get/args.log_interval, time_step/args.log_interval, time_update/args.log_interval)\n",
    "            time_get, time_step, time_update = 0,0,0\n",
    "            plot_all_data(log_dir, env_id, 'BHSDuelingDQN', config.MAX_FRAMES, bin_size=(10, 100, 100, 1), smooth=1, time=timedelta(seconds=int(timer()-start)), ipynb=True)\n",
    "        except IOError:\n",
    "            pass\n",
    "\n",
    "model.save_w()\n",
    "env.close()\n",
    "plot_all_data(log_dir, env_id, 'BHSDuelingDQN', config.MAX_FRAMES, bin_size=(10, 100, 100, 1), smooth=1, time=timedelta(seconds=int(timer()-start)), ipynb=True)"
   ]
  },
  {
   "cell_type": "code",
   "execution_count": null,
   "metadata": {
    "papermill": {
     "duration": null,
     "end_time": null,
     "exception": null,
     "start_time": null,
     "status": "pending"
    },
    "tags": []
   },
   "outputs": [],
   "source": []
  }
 ],
 "metadata": {
  "file_extension": ".py",
  "kernelspec": {
   "display_name": "Python 3",
   "language": "python",
   "name": "python3"
  },
  "language_info": {
   "codemirror_mode": {
    "name": "ipython",
    "version": 3
   },
   "file_extension": ".py",
   "mimetype": "text/x-python",
   "name": "python",
   "nbconvert_exporter": "python",
   "pygments_lexer": "ipython3",
   "version": "3.7.7"
  },
  "mimetype": "text/x-python",
  "name": "python",
  "npconvert_exporter": "python",
  "papermill": {
   "duration": null,
   "end_time": null,
   "environment_variables": {},
   "exception": null,
   "input_path": "04.Dueling_DQN_GCN.ipynb",
   "output_path": "04_OUT_TEST.ipynb",
   "parameters": {},
   "start_time": "2020-06-27T11:20:29.924226",
   "version": "2.1.1"
  },
  "pygments_lexer": "ipython3",
  "version": 3
 },
 "nbformat": 4,
 "nbformat_minor": 4
}